{
 "cells": [
  {
   "cell_type": "markdown",
   "metadata": {
    "toc": true
   },
   "source": [
    "<h1>Table of Contents<span class=\"tocSkip\"></span></h1>\n",
    "<div class=\"toc\"><ul class=\"toc-item\"><li><span><a href=\"#类别分布\" data-toc-modified-id=\"类别分布-1\"><span class=\"toc-item-num\">1&nbsp;&nbsp;</span>类别分布</a></span></li><li><span><a href=\"#新闻长度分布\" data-toc-modified-id=\"新闻长度分布-2\"><span class=\"toc-item-num\">2&nbsp;&nbsp;</span>新闻长度分布</a></span></li><li><span><a href=\"#词汇分布\" data-toc-modified-id=\"词汇分布-3\"><span class=\"toc-item-num\">3&nbsp;&nbsp;</span>词汇分布</a></span></li></ul></div>"
   ]
  },
  {
   "cell_type": "code",
   "execution_count": 11,
   "metadata": {},
   "outputs": [],
   "source": [
    "import pandas as pd"
   ]
  },
  {
   "cell_type": "code",
   "execution_count": 12,
   "metadata": {},
   "outputs": [
    {
     "data": {
      "text/html": [
       "<div>\n",
       "<style scoped>\n",
       "    .dataframe tbody tr th:only-of-type {\n",
       "        vertical-align: middle;\n",
       "    }\n",
       "\n",
       "    .dataframe tbody tr th {\n",
       "        vertical-align: top;\n",
       "    }\n",
       "\n",
       "    .dataframe thead th {\n",
       "        text-align: right;\n",
       "    }\n",
       "</style>\n",
       "<table border=\"1\" class=\"dataframe\">\n",
       "  <thead>\n",
       "    <tr style=\"text-align: right;\">\n",
       "      <th></th>\n",
       "      <th>label</th>\n",
       "      <th>text</th>\n",
       "    </tr>\n",
       "  </thead>\n",
       "  <tbody>\n",
       "    <tr>\n",
       "      <td>0</td>\n",
       "      <td>2</td>\n",
       "      <td>2967 6758 339 2021 1854 3731 4109 3792 4149 15...</td>\n",
       "    </tr>\n",
       "    <tr>\n",
       "      <td>1</td>\n",
       "      <td>11</td>\n",
       "      <td>4464 486 6352 5619 2465 4802 1452 3137 5778 54...</td>\n",
       "    </tr>\n",
       "    <tr>\n",
       "      <td>2</td>\n",
       "      <td>3</td>\n",
       "      <td>7346 4068 5074 3747 5681 6093 1777 2226 7354 6...</td>\n",
       "    </tr>\n",
       "    <tr>\n",
       "      <td>3</td>\n",
       "      <td>2</td>\n",
       "      <td>7159 948 4866 2109 5520 2490 211 3956 5520 549...</td>\n",
       "    </tr>\n",
       "    <tr>\n",
       "      <td>4</td>\n",
       "      <td>3</td>\n",
       "      <td>3646 3055 3055 2490 4659 6065 3370 5814 2465 5...</td>\n",
       "    </tr>\n",
       "  </tbody>\n",
       "</table>\n",
       "</div>"
      ],
      "text/plain": [
       "   label                                               text\n",
       "0      2  2967 6758 339 2021 1854 3731 4109 3792 4149 15...\n",
       "1     11  4464 486 6352 5619 2465 4802 1452 3137 5778 54...\n",
       "2      3  7346 4068 5074 3747 5681 6093 1777 2226 7354 6...\n",
       "3      2  7159 948 4866 2109 5520 2490 211 3956 5520 549...\n",
       "4      3  3646 3055 3055 2490 4659 6065 3370 5814 2465 5..."
      ]
     },
     "execution_count": 12,
     "metadata": {},
     "output_type": "execute_result"
    }
   ],
   "source": [
    "df = pd.read_csv(\"data/train_set.csv\", sep=\"\\t\", nrows=20000)\n",
    "df.head()"
   ]
  },
  {
   "cell_type": "code",
   "execution_count": 13,
   "metadata": {},
   "outputs": [
    {
     "name": "stdout",
     "output_type": "stream",
     "text": [
      "<class 'pandas.core.frame.DataFrame'>\n",
      "RangeIndex: 20000 entries, 0 to 19999\n",
      "Data columns (total 2 columns):\n",
      "label    20000 non-null int64\n",
      "text     20000 non-null object\n",
      "dtypes: int64(1), object(1)\n",
      "memory usage: 312.6+ KB\n"
     ]
    }
   ],
   "source": [
    "df.info()"
   ]
  },
  {
   "cell_type": "markdown",
   "metadata": {},
   "source": [
    "# 类别分布"
   ]
  },
  {
   "cell_type": "code",
   "execution_count": 14,
   "metadata": {},
   "outputs": [],
   "source": [
    "label2id = {'科技': 0, '股票': 1, '体育': 2, '娱乐': 3, '时政': 4, '社会': 5, '教育': 6, '财经': 7, '家居': 8, '游戏': 9, '房产': 10, '时尚': 11, '彩票': 12, '星座': 13}"
   ]
  },
  {
   "cell_type": "code",
   "execution_count": 15,
   "metadata": {},
   "outputs": [
    {
     "data": {
      "text/plain": [
       "{0: '科技',\n",
       " 1: '股票',\n",
       " 2: '体育',\n",
       " 3: '娱乐',\n",
       " 4: '时政',\n",
       " 5: '社会',\n",
       " 6: '教育',\n",
       " 7: '财经',\n",
       " 8: '家居',\n",
       " 9: '游戏',\n",
       " 10: '房产',\n",
       " 11: '时尚',\n",
       " 12: '彩票',\n",
       " 13: '星座'}"
      ]
     },
     "execution_count": 15,
     "metadata": {},
     "output_type": "execute_result"
    }
   ],
   "source": [
    "id2label = dict([(_id, label)for (label, _id) in label2id.items()])\n",
    "id2label"
   ]
  },
  {
   "cell_type": "code",
   "execution_count": 16,
   "metadata": {},
   "outputs": [
    {
     "data": {
      "text/plain": [
       "<matplotlib.axes._subplots.AxesSubplot at 0x11ab96c50>"
      ]
     },
     "execution_count": 16,
     "metadata": {},
     "output_type": "execute_result"
    }
   ],
   "source": [
    "df[\"label\"].value_counts().plot(kind=\"bar\", title=\"label distribution\")"
   ]
  },
  {
   "cell_type": "markdown",
   "metadata": {},
   "source": [
    "从类别分布可以看到这是一个类别分布不均衡的数据集，其中科技、股票占据了大部分比例，占比最少的是星座。"
   ]
  },
  {
   "cell_type": "markdown",
   "metadata": {},
   "source": [
    "# 新闻长度分布"
   ]
  },
  {
   "cell_type": "code",
   "execution_count": 17,
   "metadata": {},
   "outputs": [
    {
     "data": {
      "text/html": [
       "<div>\n",
       "<style scoped>\n",
       "    .dataframe tbody tr th:only-of-type {\n",
       "        vertical-align: middle;\n",
       "    }\n",
       "\n",
       "    .dataframe tbody tr th {\n",
       "        vertical-align: top;\n",
       "    }\n",
       "\n",
       "    .dataframe thead th {\n",
       "        text-align: right;\n",
       "    }\n",
       "</style>\n",
       "<table border=\"1\" class=\"dataframe\">\n",
       "  <thead>\n",
       "    <tr style=\"text-align: right;\">\n",
       "      <th></th>\n",
       "      <th>label</th>\n",
       "      <th>text</th>\n",
       "      <th>text_chars</th>\n",
       "    </tr>\n",
       "  </thead>\n",
       "  <tbody>\n",
       "    <tr>\n",
       "      <td>0</td>\n",
       "      <td>2</td>\n",
       "      <td>2967 6758 339 2021 1854 3731 4109 3792 4149 15...</td>\n",
       "      <td>[2967, 6758, 339, 2021, 1854, 3731, 4109, 3792...</td>\n",
       "    </tr>\n",
       "    <tr>\n",
       "      <td>1</td>\n",
       "      <td>11</td>\n",
       "      <td>4464 486 6352 5619 2465 4802 1452 3137 5778 54...</td>\n",
       "      <td>[4464, 486, 6352, 5619, 2465, 4802, 1452, 3137...</td>\n",
       "    </tr>\n",
       "    <tr>\n",
       "      <td>2</td>\n",
       "      <td>3</td>\n",
       "      <td>7346 4068 5074 3747 5681 6093 1777 2226 7354 6...</td>\n",
       "      <td>[7346, 4068, 5074, 3747, 5681, 6093, 1777, 222...</td>\n",
       "    </tr>\n",
       "    <tr>\n",
       "      <td>3</td>\n",
       "      <td>2</td>\n",
       "      <td>7159 948 4866 2109 5520 2490 211 3956 5520 549...</td>\n",
       "      <td>[7159, 948, 4866, 2109, 5520, 2490, 211, 3956,...</td>\n",
       "    </tr>\n",
       "    <tr>\n",
       "      <td>4</td>\n",
       "      <td>3</td>\n",
       "      <td>3646 3055 3055 2490 4659 6065 3370 5814 2465 5...</td>\n",
       "      <td>[3646, 3055, 3055, 2490, 4659, 6065, 3370, 581...</td>\n",
       "    </tr>\n",
       "  </tbody>\n",
       "</table>\n",
       "</div>"
      ],
      "text/plain": [
       "   label                                               text  \\\n",
       "0      2  2967 6758 339 2021 1854 3731 4109 3792 4149 15...   \n",
       "1     11  4464 486 6352 5619 2465 4802 1452 3137 5778 54...   \n",
       "2      3  7346 4068 5074 3747 5681 6093 1777 2226 7354 6...   \n",
       "3      2  7159 948 4866 2109 5520 2490 211 3956 5520 549...   \n",
       "4      3  3646 3055 3055 2490 4659 6065 3370 5814 2465 5...   \n",
       "\n",
       "                                          text_chars  \n",
       "0  [2967, 6758, 339, 2021, 1854, 3731, 4109, 3792...  \n",
       "1  [4464, 486, 6352, 5619, 2465, 4802, 1452, 3137...  \n",
       "2  [7346, 4068, 5074, 3747, 5681, 6093, 1777, 222...  \n",
       "3  [7159, 948, 4866, 2109, 5520, 2490, 211, 3956,...  \n",
       "4  [3646, 3055, 3055, 2490, 4659, 6065, 3370, 581...  "
      ]
     },
     "execution_count": 17,
     "metadata": {},
     "output_type": "execute_result"
    }
   ],
   "source": [
    "df[\"text_chars\"] = df[\"text\"].apply(lambda x: x.split())\n",
    "df.head()"
   ]
  },
  {
   "cell_type": "code",
   "execution_count": 18,
   "metadata": {},
   "outputs": [
    {
     "data": {
      "text/plain": [
       "count    20000.00000\n",
       "mean       904.61785\n",
       "std        961.69081\n",
       "min          2.00000\n",
       "25%        375.00000\n",
       "50%        676.00000\n",
       "75%       1125.00000\n",
       "max      44665.00000\n",
       "Name: text_chars, dtype: float64"
      ]
     },
     "execution_count": 18,
     "metadata": {},
     "output_type": "execute_result"
    }
   ],
   "source": [
    "df[\"text_chars\"].apply(len).describe()"
   ]
  },
  {
   "cell_type": "code",
   "execution_count": 19,
   "metadata": {},
   "outputs": [
    {
     "data": {
      "text/plain": [
       "<matplotlib.axes._subplots.AxesSubplot at 0x16b5dbb10>"
      ]
     },
     "execution_count": 19,
     "metadata": {},
     "output_type": "execute_result"
    },
    {
     "data": {
      "image/png": "[encoded data removed]",
      "text/plain": [
       "<Figure size 432x288 with 1 Axes>"
      ]
     },
     "metadata": {
      "needs_background": "light"
     },
     "output_type": "display_data"
    }
   ],
   "source": [
    "df[\"text_chars\"].apply(len).plot(kind=\"hist\", bins=200)"
   ]
  },
  {
   "cell_type": "markdown",
   "metadata": {},
   "source": [
    "可以看到文本长度的分布比较分散，最少的只有2个字，最多的有4w+个字。大部分新闻的长度在1k左右。"
   ]
  },
  {
   "cell_type": "markdown",
   "metadata": {},
   "source": [
    "# 词汇分布"
   ]
  },
  {
   "cell_type": "code",
   "execution_count": 20,
   "metadata": {},
   "outputs": [],
   "source": [
    "vocab = {}\n",
    "for doc in df[\"text_chars\"]:\n",
    "    for w in doc:\n",
    "        if w in vocab:\n",
    "            vocab[w] += 1\n",
    "        else:\n",
    "            vocab[w] = 1\n",
    "            \n",
    "vocab = sorted(vocab.items(), key=lambda x: x[1], reverse=True)"
   ]
  },
  {
   "cell_type": "code",
   "execution_count": 21,
   "metadata": {},
   "outputs": [
    {
     "data": {
      "text/plain": [
       "[('3750', 742697),\n",
       " ('648', 489642),\n",
       " ('900', 324097),\n",
       " ('3370', 202245),\n",
       " ('6122', 158614),\n",
       " ('4464', 154757),\n",
       " ('7399', 144340),\n",
       " ('4939', 136550),\n",
       " ('3659', 124451),\n",
       " ('4811', 114359),\n",
       " ('2465', 114257),\n",
       " ('5598', 110859),\n",
       " ('669', 107282),\n",
       " ('2400', 103015),\n",
       " ('5560', 102864),\n",
       " ('299', 92441),\n",
       " ('2109', 91707),\n",
       " ('4893', 90427),\n",
       " ('4411', 88354),\n",
       " ('1699', 85354)]"
      ]
     },
     "execution_count": 21,
     "metadata": {},
     "output_type": "execute_result"
    }
   ],
   "source": [
    "vocab[:20]"
   ]
  },
  {
   "cell_type": "code",
   "execution_count": 22,
   "metadata": {
    "jupyter": {
     "outputs_hidden": true
    }
   },
   "outputs": [
    {
     "data": {
      "text/plain": [
       "[('4195', 1),\n",
       " ('5756', 1),\n",
       " ('4710', 1),\n",
       " ('3927', 1),\n",
       " ('3122', 1),\n",
       " ('2962', 1),\n",
       " ('4953', 1),\n",
       " ('200', 1),\n",
       " ('3269', 1),\n",
       " ('2263', 1)]"
      ]
     },
     "execution_count": 22,
     "metadata": {},
     "output_type": "execute_result"
    }
   ],
   "source": [
    "vocab[-10:]"
   ]
  },
  {
   "cell_type": "markdown",
   "metadata": {},
   "source": [
    "可以根据字符在文档中的分布情况，推断出字符代表的字。比如，在每个文档中都会出现的字符，可能是标点。"
   ]
  },
  {
   "cell_type": "code",
   "execution_count": 23,
   "metadata": {
    "code_folding": [],
    "jupyter": {
     "source_hidden": true
    }
   },
   "outputs": [],
   "source": [
    "char_in_doc_count = {}\n",
    "for doc in df[\"text_chars\"].apply(lambda x: list(set(x))):\n",
    "    for w in doc:\n",
    "        if w in char_in_doc_count:\n",
    "            char_in_doc_count[w] += 1\n",
    "        else:\n",
    "            char_in_doc_count[w] = 1\n",
    "            \n",
    "char_in_doc_count = sorted(char_in_doc_count.items(), key=lambda x: x[1], reverse=True)"
   ]
  },
  {
   "cell_type": "code",
   "execution_count": 24,
   "metadata": {},
   "outputs": [
    {
     "data": {
      "text/plain": [
       "[('3750', 19828),\n",
       " ('900', 19790),\n",
       " ('648', 19229),\n",
       " ('2465', 17668),\n",
       " ('6122', 17640),\n",
       " ('7399', 17557),\n",
       " ('4811', 16910),\n",
       " ('4464', 16766),\n",
       " ('1699', 16530),\n",
       " ('2400', 16320),\n",
       " ('3659', 16308),\n",
       " ('299', 16300),\n",
       " ('3370', 16233),\n",
       " ('2109', 15838),\n",
       " ('4939', 15766),\n",
       " ('5598', 15652),\n",
       " ('669', 15579),\n",
       " ('5445', 15433),\n",
       " ('4853', 15286),\n",
       " ('5948', 14968)]"
      ]
     },
     "execution_count": 24,
     "metadata": {},
     "output_type": "execute_result"
    }
   ],
   "source": [
    "char_in_doc_count[:20]"
   ]
  },
  {
   "cell_type": "markdown",
   "metadata": {},
   "source": [
    "结合字符的个数分布情况来看，3750、900、648这些字符可能是标点符号。"
   ]
  },
  {
   "cell_type": "code",
   "execution_count": 29,
   "metadata": {},
   "outputs": [
    {
     "name": "stdout",
     "output_type": "stream",
     "text": [
      "1234  4567\r\n"
     ]
    }
   ],
   "source": [
    "! echo \"1234 3750 4567\" | sed \"s/3750//g; s/900//g; s/648//g\""
   ]
  },
  {
   "cell_type": "code",
   "execution_count": null,
   "metadata": {},
   "outputs": [],
   "source": []
  }
 ],
 "metadata": {
  "kernelspec": {
   "display_name": "Python 3",
   "language": "python",
   "name": "python3"
  },
  "language_info": {
   "codemirror_mode": {
    "name": "ipython",
    "version": 3
   },
   "file_extension": ".py",
   "mimetype": "text/x-python",
   "name": "python",
   "nbconvert_exporter": "python",
   "pygments_lexer": "ipython3",
   "version": "3.7.4"
  },
  "toc": {
   "base_numbering": 1,
   "nav_menu": {},
   "number_sections": true,
   "sideBar": true,
   "skip_h1_title": false,
   "title_cell": "Table of Contents",
   "title_sidebar": "Contents",
   "toc_cell": true,
   "toc_position": {},
   "toc_section_display": true,
   "toc_window_display": false
  }
 },
 "nbformat": 4,
 "nbformat_minor": 4
}
